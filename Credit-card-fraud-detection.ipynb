{
 "cells": [
  {
   "cell_type": "markdown",
   "metadata": {},
   "source": [
    "MARIA KARTHIKA S  \n",
    "215229123"
   ]
  },
  {
   "cell_type": "markdown",
   "metadata": {},
   "source": [
    "# CREDIT CARD FRAUD DETECTION"
   ]
  },
  {
   "cell_type": "markdown",
   "metadata": {
    "papermill": {
     "duration": 0.03686,
     "end_time": "2020-10-17T11:19:37.643738",
     "exception": false,
     "start_time": "2020-10-17T11:19:37.606878",
     "status": "completed"
    },
    "tags": []
   },
   "source": [
    "# Problem Statement:\n",
    "\n",
    "It is important that credit card companies are able to recognize fraudulent credit card transactions so that customers are not charged for items that they did not purchase."
   ]
  },
  {
   "cell_type": "code",
   "execution_count": 1,
   "metadata": {
    "execution": {
     "iopub.execute_input": "2020-10-17T11:19:37.729962Z",
     "iopub.status.busy": "2020-10-17T11:19:37.729031Z",
     "iopub.status.idle": "2020-10-17T11:19:38.924056Z",
     "shell.execute_reply": "2020-10-17T11:19:38.923324Z"
    },
    "papermill": {
     "duration": 1.246085,
     "end_time": "2020-10-17T11:19:38.924186",
     "exception": false,
     "start_time": "2020-10-17T11:19:37.678101",
     "status": "completed"
    },
    "tags": []
   },
   "outputs": [],
   "source": [
    "# Some mandatory Libraries\n",
    "import warnings\n",
    "import numpy as np # linear algebra\n",
    "import pandas as pd # data processing, CSV file I/O\n",
    "\n",
    "#EDA Libraries\n",
    "import seaborn as sns\n",
    "import matplotlib.pyplot as plt\n",
    "import matplotlib.patches as mpatches\n",
    "\n",
    "# Classifier Libraries\n",
    "from sklearn import linear_model\n",
    "from sklearn.naive_bayes import GaussianNB\n",
    "from sklearn.model_selection import GridSearchCV\n",
    "from sklearn.neighbors import KNeighborsClassifier\n",
    "from sklearn.linear_model import LogisticRegression\n",
    "from sklearn.model_selection import cross_val_score\n",
    "from sklearn.metrics import accuracy_score, roc_auc_score, roc_curve\n",
    "\n",
    "# Other Libraries\n",
    "from tqdm import tqdm\n",
    "from sklearn.manifold import TSNE\n",
    "from sklearn.decomposition import PCA\n",
    "from sklearn.metrics import confusion_matrix\n",
    "from sklearn.preprocessing import StandardScaler\n",
    "from sklearn.model_selection import train_test_split\n",
    "\n",
    "%matplotlib inline\n",
    "warnings.filterwarnings(\"ignore\")"
   ]
  },
  {
   "cell_type": "code",
   "execution_count": 2,
   "metadata": {
    "_cell_guid": "b1076dfc-b9ad-4769-8c92-a6c4dae69d19",
    "_uuid": "8f2839f25d086af736a60e9eeb907d3b93b6e0e5",
    "execution": {
     "iopub.execute_input": "2020-10-17T11:19:39.000487Z",
     "iopub.status.busy": "2020-10-17T11:19:38.999667Z",
     "iopub.status.idle": "2020-10-17T11:19:39.007593Z",
     "shell.execute_reply": "2020-10-17T11:19:39.006920Z"
    },
    "papermill": {
     "duration": 0.048626,
     "end_time": "2020-10-17T11:19:39.007715",
     "exception": false,
     "start_time": "2020-10-17T11:19:38.959089",
     "status": "completed"
    },
    "tags": []
   },
   "outputs": [
    {
     "name": "stdout",
     "output_type": "stream",
     "text": [
      "/kaggle/input/creditcardfraud/creditcard.csv\n"
     ]
    }
   ],
   "source": [
    "\n",
    "import os\n",
    "for dirname, _, filenames in os.walk('/kaggle/input'):\n",
    "    for filename in filenames:\n",
    "        print(os.path.join(dirname, filename))\n",
    "\n",
    "# You can write up to 5GB to the current directory (/kaggle/working/) that gets preserved as output when you create a version using \"Save & Run All\" \n",
    "# You can also write temporary files to /kaggle/temp/, but they won't be saved outside of the current session"
   ]
  },
  {
   "cell_type": "markdown",
   "metadata": {
    "papermill": {
     "duration": 0.034179,
     "end_time": "2020-10-17T11:19:39.076864",
     "exception": false,
     "start_time": "2020-10-17T11:19:39.042685",
     "status": "completed"
    },
    "tags": []
   },
   "source": [
    "## [01] Read Data:"
   ]
  },
  {
   "cell_type": "code",
   "execution_count": 3,
   "metadata": {
    "_cell_guid": "79c7e3d0-c299-4dcb-8224-4455121ee9b0",
    "_uuid": "d629ff2d2480ee46fbb7e2d37f6b5fab8052498a",
    "execution": {
     "iopub.execute_input": "2020-10-17T11:19:39.153311Z",
     "iopub.status.busy": "2020-10-17T11:19:39.152456Z",
     "iopub.status.idle": "2020-10-17T11:19:42.238223Z",
     "shell.execute_reply": "2020-10-17T11:19:42.237616Z"
    },
    "papermill": {
     "duration": 3.126768,
     "end_time": "2020-10-17T11:19:42.238370",
     "exception": false,
     "start_time": "2020-10-17T11:19:39.111602",
     "status": "completed"
    },
    "tags": []
   },
   "outputs": [
    {
     "data": {
      "text/html": [
       "<div>\n",
       "<style scoped>\n",
       "    .dataframe tbody tr th:only-of-type {\n",
       "        vertical-align: middle;\n",
       "    }\n",
       "\n",
       "    .dataframe tbody tr th {\n",
       "        vertical-align: top;\n",
       "    }\n",
       "\n",
       "    .dataframe thead th {\n",
       "        text-align: right;\n",
       "    }\n",
       "</style>\n",
       "<table border=\"1\" class=\"dataframe\">\n",
       "  <thead>\n",
       "    <tr style=\"text-align: right;\">\n",
       "      <th></th>\n",
       "      <th>Time</th>\n",
       "      <th>V1</th>\n",
       "      <th>V2</th>\n",
       "      <th>V3</th>\n",
       "      <th>V4</th>\n",
       "      <th>V5</th>\n",
       "      <th>V6</th>\n",
       "      <th>V7</th>\n",
       "      <th>V8</th>\n",
       "      <th>V9</th>\n",
       "      <th>...</th>\n",
       "      <th>V21</th>\n",
       "      <th>V22</th>\n",
       "      <th>V23</th>\n",
       "      <th>V24</th>\n",
       "      <th>V25</th>\n",
       "      <th>V26</th>\n",
       "      <th>V27</th>\n",
       "      <th>V28</th>\n",
       "      <th>Amount</th>\n",
       "      <th>Class</th>\n",
       "    </tr>\n",
       "  </thead>\n",
       "  <tbody>\n",
       "    <tr>\n",
       "      <th>0</th>\n",
       "      <td>0.0</td>\n",
       "      <td>-1.359807</td>\n",
       "      <td>-0.072781</td>\n",
       "      <td>2.536347</td>\n",
       "      <td>1.378155</td>\n",
       "      <td>-0.338321</td>\n",
       "      <td>0.462388</td>\n",
       "      <td>0.239599</td>\n",
       "      <td>0.098698</td>\n",
       "      <td>0.363787</td>\n",
       "      <td>...</td>\n",
       "      <td>-0.018307</td>\n",
       "      <td>0.277838</td>\n",
       "      <td>-0.110474</td>\n",
       "      <td>0.066928</td>\n",
       "      <td>0.128539</td>\n",
       "      <td>-0.189115</td>\n",
       "      <td>0.133558</td>\n",
       "      <td>-0.021053</td>\n",
       "      <td>149.62</td>\n",
       "      <td>0</td>\n",
       "    </tr>\n",
       "    <tr>\n",
       "      <th>1</th>\n",
       "      <td>0.0</td>\n",
       "      <td>1.191857</td>\n",
       "      <td>0.266151</td>\n",
       "      <td>0.166480</td>\n",
       "      <td>0.448154</td>\n",
       "      <td>0.060018</td>\n",
       "      <td>-0.082361</td>\n",
       "      <td>-0.078803</td>\n",
       "      <td>0.085102</td>\n",
       "      <td>-0.255425</td>\n",
       "      <td>...</td>\n",
       "      <td>-0.225775</td>\n",
       "      <td>-0.638672</td>\n",
       "      <td>0.101288</td>\n",
       "      <td>-0.339846</td>\n",
       "      <td>0.167170</td>\n",
       "      <td>0.125895</td>\n",
       "      <td>-0.008983</td>\n",
       "      <td>0.014724</td>\n",
       "      <td>2.69</td>\n",
       "      <td>0</td>\n",
       "    </tr>\n",
       "    <tr>\n",
       "      <th>2</th>\n",
       "      <td>1.0</td>\n",
       "      <td>-1.358354</td>\n",
       "      <td>-1.340163</td>\n",
       "      <td>1.773209</td>\n",
       "      <td>0.379780</td>\n",
       "      <td>-0.503198</td>\n",
       "      <td>1.800499</td>\n",
       "      <td>0.791461</td>\n",
       "      <td>0.247676</td>\n",
       "      <td>-1.514654</td>\n",
       "      <td>...</td>\n",
       "      <td>0.247998</td>\n",
       "      <td>0.771679</td>\n",
       "      <td>0.909412</td>\n",
       "      <td>-0.689281</td>\n",
       "      <td>-0.327642</td>\n",
       "      <td>-0.139097</td>\n",
       "      <td>-0.055353</td>\n",
       "      <td>-0.059752</td>\n",
       "      <td>378.66</td>\n",
       "      <td>0</td>\n",
       "    </tr>\n",
       "    <tr>\n",
       "      <th>3</th>\n",
       "      <td>1.0</td>\n",
       "      <td>-0.966272</td>\n",
       "      <td>-0.185226</td>\n",
       "      <td>1.792993</td>\n",
       "      <td>-0.863291</td>\n",
       "      <td>-0.010309</td>\n",
       "      <td>1.247203</td>\n",
       "      <td>0.237609</td>\n",
       "      <td>0.377436</td>\n",
       "      <td>-1.387024</td>\n",
       "      <td>...</td>\n",
       "      <td>-0.108300</td>\n",
       "      <td>0.005274</td>\n",
       "      <td>-0.190321</td>\n",
       "      <td>-1.175575</td>\n",
       "      <td>0.647376</td>\n",
       "      <td>-0.221929</td>\n",
       "      <td>0.062723</td>\n",
       "      <td>0.061458</td>\n",
       "      <td>123.50</td>\n",
       "      <td>0</td>\n",
       "    </tr>\n",
       "    <tr>\n",
       "      <th>4</th>\n",
       "      <td>2.0</td>\n",
       "      <td>-1.158233</td>\n",
       "      <td>0.877737</td>\n",
       "      <td>1.548718</td>\n",
       "      <td>0.403034</td>\n",
       "      <td>-0.407193</td>\n",
       "      <td>0.095921</td>\n",
       "      <td>0.592941</td>\n",
       "      <td>-0.270533</td>\n",
       "      <td>0.817739</td>\n",
       "      <td>...</td>\n",
       "      <td>-0.009431</td>\n",
       "      <td>0.798278</td>\n",
       "      <td>-0.137458</td>\n",
       "      <td>0.141267</td>\n",
       "      <td>-0.206010</td>\n",
       "      <td>0.502292</td>\n",
       "      <td>0.219422</td>\n",
       "      <td>0.215153</td>\n",
       "      <td>69.99</td>\n",
       "      <td>0</td>\n",
       "    </tr>\n",
       "  </tbody>\n",
       "</table>\n",
       "<p>5 rows × 31 columns</p>\n",
       "</div>"
      ],
      "text/plain": [
       "   Time        V1        V2        V3        V4        V5        V6        V7  \\\n",
       "0   0.0 -1.359807 -0.072781  2.536347  1.378155 -0.338321  0.462388  0.239599   \n",
       "1   0.0  1.191857  0.266151  0.166480  0.448154  0.060018 -0.082361 -0.078803   \n",
       "2   1.0 -1.358354 -1.340163  1.773209  0.379780 -0.503198  1.800499  0.791461   \n",
       "3   1.0 -0.966272 -0.185226  1.792993 -0.863291 -0.010309  1.247203  0.237609   \n",
       "4   2.0 -1.158233  0.877737  1.548718  0.403034 -0.407193  0.095921  0.592941   \n",
       "\n",
       "         V8        V9  ...       V21       V22       V23       V24       V25  \\\n",
       "0  0.098698  0.363787  ... -0.018307  0.277838 -0.110474  0.066928  0.128539   \n",
       "1  0.085102 -0.255425  ... -0.225775 -0.638672  0.101288 -0.339846  0.167170   \n",
       "2  0.247676 -1.514654  ...  0.247998  0.771679  0.909412 -0.689281 -0.327642   \n",
       "3  0.377436 -1.387024  ... -0.108300  0.005274 -0.190321 -1.175575  0.647376   \n",
       "4 -0.270533  0.817739  ... -0.009431  0.798278 -0.137458  0.141267 -0.206010   \n",
       "\n",
       "        V26       V27       V28  Amount  Class  \n",
       "0 -0.189115  0.133558 -0.021053  149.62      0  \n",
       "1  0.125895 -0.008983  0.014724    2.69      0  \n",
       "2 -0.139097 -0.055353 -0.059752  378.66      0  \n",
       "3 -0.221929  0.062723  0.061458  123.50      0  \n",
       "4  0.502292  0.219422  0.215153   69.99      0  \n",
       "\n",
       "[5 rows x 31 columns]"
      ]
     },
     "execution_count": 3,
     "metadata": {},
     "output_type": "execute_result"
    }
   ],
   "source": [
    "df = pd.read_csv('../input/creditcardfraud/creditcard.csv')\n",
    "df.head()"
   ]
  },
  {
   "cell_type": "code",
   "execution_count": 4,
   "metadata": {
    "execution": {
     "iopub.execute_input": "2020-10-17T11:19:42.315873Z",
     "iopub.status.busy": "2020-10-17T11:19:42.315044Z",
     "iopub.status.idle": "2020-10-17T11:19:42.318524Z",
     "shell.execute_reply": "2020-10-17T11:19:42.319568Z"
    },
    "papermill": {
     "duration": 0.045797,
     "end_time": "2020-10-17T11:19:42.319790",
     "exception": false,
     "start_time": "2020-10-17T11:19:42.273993",
     "status": "completed"
    },
    "tags": []
   },
   "outputs": [
    {
     "name": "stdout",
     "output_type": "stream",
     "text": [
      "Index(['Time', 'V1', 'V2', 'V3', 'V4', 'V5', 'V6', 'V7', 'V8', 'V9', 'V10',\n",
      "       'V11', 'V12', 'V13', 'V14', 'V15', 'V16', 'V17', 'V18', 'V19', 'V20',\n",
      "       'V21', 'V22', 'V23', 'V24', 'V25', 'V26', 'V27', 'V28', 'Amount',\n",
      "       'Class'],\n",
      "      dtype='object')\n"
     ]
    }
   ],
   "source": [
    "print(df.columns)"
   ]
  },
  {
   "cell_type": "code",
   "execution_count": 5,
   "metadata": {
    "execution": {
     "iopub.execute_input": "2020-10-17T11:19:42.399498Z",
     "iopub.status.busy": "2020-10-17T11:19:42.398540Z",
     "iopub.status.idle": "2020-10-17T11:19:42.401936Z",
     "shell.execute_reply": "2020-10-17T11:19:42.402543Z"
    },
    "papermill": {
     "duration": 0.045401,
     "end_time": "2020-10-17T11:19:42.402713",
     "exception": false,
     "start_time": "2020-10-17T11:19:42.357312",
     "status": "completed"
    },
    "tags": []
   },
   "outputs": [
    {
     "name": "stdout",
     "output_type": "stream",
     "text": [
      "Our total data point:  (284807, 31)\n"
     ]
    }
   ],
   "source": [
    "print('Our total data point: ', df.shape)\n",
    "\n",
    "# Total data points are 284807"
   ]
  },
  {
   "cell_type": "code",
   "execution_count": 6,
   "metadata": {
    "execution": {
     "iopub.execute_input": "2020-10-17T11:19:42.525786Z",
     "iopub.status.busy": "2020-10-17T11:19:42.524965Z",
     "iopub.status.idle": "2020-10-17T11:19:42.943251Z",
     "shell.execute_reply": "2020-10-17T11:19:42.942518Z"
    },
    "papermill": {
     "duration": 0.503781,
     "end_time": "2020-10-17T11:19:42.943415",
     "exception": false,
     "start_time": "2020-10-17T11:19:42.439634",
     "status": "completed"
    },
    "tags": []
   },
   "outputs": [
    {
     "data": {
      "text/html": [
       "<div>\n",
       "<style scoped>\n",
       "    .dataframe tbody tr th:only-of-type {\n",
       "        vertical-align: middle;\n",
       "    }\n",
       "\n",
       "    .dataframe tbody tr th {\n",
       "        vertical-align: top;\n",
       "    }\n",
       "\n",
       "    .dataframe thead th {\n",
       "        text-align: right;\n",
       "    }\n",
       "</style>\n",
       "<table border=\"1\" class=\"dataframe\">\n",
       "  <thead>\n",
       "    <tr style=\"text-align: right;\">\n",
       "      <th></th>\n",
       "      <th>Time</th>\n",
       "      <th>V1</th>\n",
       "      <th>V2</th>\n",
       "      <th>V3</th>\n",
       "      <th>V4</th>\n",
       "      <th>V5</th>\n",
       "      <th>V6</th>\n",
       "      <th>V7</th>\n",
       "      <th>V8</th>\n",
       "      <th>V9</th>\n",
       "      <th>...</th>\n",
       "      <th>V21</th>\n",
       "      <th>V22</th>\n",
       "      <th>V23</th>\n",
       "      <th>V24</th>\n",
       "      <th>V25</th>\n",
       "      <th>V26</th>\n",
       "      <th>V27</th>\n",
       "      <th>V28</th>\n",
       "      <th>Amount</th>\n",
       "      <th>Class</th>\n",
       "    </tr>\n",
       "  </thead>\n",
       "  <tbody>\n",
       "    <tr>\n",
       "      <th>count</th>\n",
       "      <td>284807.000000</td>\n",
       "      <td>2.848070e+05</td>\n",
       "      <td>2.848070e+05</td>\n",
       "      <td>2.848070e+05</td>\n",
       "      <td>2.848070e+05</td>\n",
       "      <td>2.848070e+05</td>\n",
       "      <td>2.848070e+05</td>\n",
       "      <td>2.848070e+05</td>\n",
       "      <td>2.848070e+05</td>\n",
       "      <td>2.848070e+05</td>\n",
       "      <td>...</td>\n",
       "      <td>2.848070e+05</td>\n",
       "      <td>2.848070e+05</td>\n",
       "      <td>2.848070e+05</td>\n",
       "      <td>2.848070e+05</td>\n",
       "      <td>2.848070e+05</td>\n",
       "      <td>2.848070e+05</td>\n",
       "      <td>2.848070e+05</td>\n",
       "      <td>2.848070e+05</td>\n",
       "      <td>284807.000000</td>\n",
       "      <td>284807.000000</td>\n",
       "    </tr>\n",
       "    <tr>\n",
       "      <th>mean</th>\n",
       "      <td>94813.859575</td>\n",
       "      <td>3.919560e-15</td>\n",
       "      <td>5.688174e-16</td>\n",
       "      <td>-8.769071e-15</td>\n",
       "      <td>2.782312e-15</td>\n",
       "      <td>-1.552563e-15</td>\n",
       "      <td>2.010663e-15</td>\n",
       "      <td>-1.694249e-15</td>\n",
       "      <td>-1.927028e-16</td>\n",
       "      <td>-3.137024e-15</td>\n",
       "      <td>...</td>\n",
       "      <td>1.537294e-16</td>\n",
       "      <td>7.959909e-16</td>\n",
       "      <td>5.367590e-16</td>\n",
       "      <td>4.458112e-15</td>\n",
       "      <td>1.453003e-15</td>\n",
       "      <td>1.699104e-15</td>\n",
       "      <td>-3.660161e-16</td>\n",
       "      <td>-1.206049e-16</td>\n",
       "      <td>88.349619</td>\n",
       "      <td>0.001727</td>\n",
       "    </tr>\n",
       "    <tr>\n",
       "      <th>std</th>\n",
       "      <td>47488.145955</td>\n",
       "      <td>1.958696e+00</td>\n",
       "      <td>1.651309e+00</td>\n",
       "      <td>1.516255e+00</td>\n",
       "      <td>1.415869e+00</td>\n",
       "      <td>1.380247e+00</td>\n",
       "      <td>1.332271e+00</td>\n",
       "      <td>1.237094e+00</td>\n",
       "      <td>1.194353e+00</td>\n",
       "      <td>1.098632e+00</td>\n",
       "      <td>...</td>\n",
       "      <td>7.345240e-01</td>\n",
       "      <td>7.257016e-01</td>\n",
       "      <td>6.244603e-01</td>\n",
       "      <td>6.056471e-01</td>\n",
       "      <td>5.212781e-01</td>\n",
       "      <td>4.822270e-01</td>\n",
       "      <td>4.036325e-01</td>\n",
       "      <td>3.300833e-01</td>\n",
       "      <td>250.120109</td>\n",
       "      <td>0.041527</td>\n",
       "    </tr>\n",
       "    <tr>\n",
       "      <th>min</th>\n",
       "      <td>0.000000</td>\n",
       "      <td>-5.640751e+01</td>\n",
       "      <td>-7.271573e+01</td>\n",
       "      <td>-4.832559e+01</td>\n",
       "      <td>-5.683171e+00</td>\n",
       "      <td>-1.137433e+02</td>\n",
       "      <td>-2.616051e+01</td>\n",
       "      <td>-4.355724e+01</td>\n",
       "      <td>-7.321672e+01</td>\n",
       "      <td>-1.343407e+01</td>\n",
       "      <td>...</td>\n",
       "      <td>-3.483038e+01</td>\n",
       "      <td>-1.093314e+01</td>\n",
       "      <td>-4.480774e+01</td>\n",
       "      <td>-2.836627e+00</td>\n",
       "      <td>-1.029540e+01</td>\n",
       "      <td>-2.604551e+00</td>\n",
       "      <td>-2.256568e+01</td>\n",
       "      <td>-1.543008e+01</td>\n",
       "      <td>0.000000</td>\n",
       "      <td>0.000000</td>\n",
       "    </tr>\n",
       "    <tr>\n",
       "      <th>25%</th>\n",
       "      <td>54201.500000</td>\n",
       "      <td>-9.203734e-01</td>\n",
       "      <td>-5.985499e-01</td>\n",
       "      <td>-8.903648e-01</td>\n",
       "      <td>-8.486401e-01</td>\n",
       "      <td>-6.915971e-01</td>\n",
       "      <td>-7.682956e-01</td>\n",
       "      <td>-5.540759e-01</td>\n",
       "      <td>-2.086297e-01</td>\n",
       "      <td>-6.430976e-01</td>\n",
       "      <td>...</td>\n",
       "      <td>-2.283949e-01</td>\n",
       "      <td>-5.423504e-01</td>\n",
       "      <td>-1.618463e-01</td>\n",
       "      <td>-3.545861e-01</td>\n",
       "      <td>-3.171451e-01</td>\n",
       "      <td>-3.269839e-01</td>\n",
       "      <td>-7.083953e-02</td>\n",
       "      <td>-5.295979e-02</td>\n",
       "      <td>5.600000</td>\n",
       "      <td>0.000000</td>\n",
       "    </tr>\n",
       "    <tr>\n",
       "      <th>50%</th>\n",
       "      <td>84692.000000</td>\n",
       "      <td>1.810880e-02</td>\n",
       "      <td>6.548556e-02</td>\n",
       "      <td>1.798463e-01</td>\n",
       "      <td>-1.984653e-02</td>\n",
       "      <td>-5.433583e-02</td>\n",
       "      <td>-2.741871e-01</td>\n",
       "      <td>4.010308e-02</td>\n",
       "      <td>2.235804e-02</td>\n",
       "      <td>-5.142873e-02</td>\n",
       "      <td>...</td>\n",
       "      <td>-2.945017e-02</td>\n",
       "      <td>6.781943e-03</td>\n",
       "      <td>-1.119293e-02</td>\n",
       "      <td>4.097606e-02</td>\n",
       "      <td>1.659350e-02</td>\n",
       "      <td>-5.213911e-02</td>\n",
       "      <td>1.342146e-03</td>\n",
       "      <td>1.124383e-02</td>\n",
       "      <td>22.000000</td>\n",
       "      <td>0.000000</td>\n",
       "    </tr>\n",
       "    <tr>\n",
       "      <th>75%</th>\n",
       "      <td>139320.500000</td>\n",
       "      <td>1.315642e+00</td>\n",
       "      <td>8.037239e-01</td>\n",
       "      <td>1.027196e+00</td>\n",
       "      <td>7.433413e-01</td>\n",
       "      <td>6.119264e-01</td>\n",
       "      <td>3.985649e-01</td>\n",
       "      <td>5.704361e-01</td>\n",
       "      <td>3.273459e-01</td>\n",
       "      <td>5.971390e-01</td>\n",
       "      <td>...</td>\n",
       "      <td>1.863772e-01</td>\n",
       "      <td>5.285536e-01</td>\n",
       "      <td>1.476421e-01</td>\n",
       "      <td>4.395266e-01</td>\n",
       "      <td>3.507156e-01</td>\n",
       "      <td>2.409522e-01</td>\n",
       "      <td>9.104512e-02</td>\n",
       "      <td>7.827995e-02</td>\n",
       "      <td>77.165000</td>\n",
       "      <td>0.000000</td>\n",
       "    </tr>\n",
       "    <tr>\n",
       "      <th>max</th>\n",
       "      <td>172792.000000</td>\n",
       "      <td>2.454930e+00</td>\n",
       "      <td>2.205773e+01</td>\n",
       "      <td>9.382558e+00</td>\n",
       "      <td>1.687534e+01</td>\n",
       "      <td>3.480167e+01</td>\n",
       "      <td>7.330163e+01</td>\n",
       "      <td>1.205895e+02</td>\n",
       "      <td>2.000721e+01</td>\n",
       "      <td>1.559499e+01</td>\n",
       "      <td>...</td>\n",
       "      <td>2.720284e+01</td>\n",
       "      <td>1.050309e+01</td>\n",
       "      <td>2.252841e+01</td>\n",
       "      <td>4.584549e+00</td>\n",
       "      <td>7.519589e+00</td>\n",
       "      <td>3.517346e+00</td>\n",
       "      <td>3.161220e+01</td>\n",
       "      <td>3.384781e+01</td>\n",
       "      <td>25691.160000</td>\n",
       "      <td>1.000000</td>\n",
       "    </tr>\n",
       "  </tbody>\n",
       "</table>\n",
       "<p>8 rows × 31 columns</p>\n",
       "</div>"
      ],
      "text/plain": [
       "                Time            V1            V2            V3            V4  \\\n",
       "count  284807.000000  2.848070e+05  2.848070e+05  2.848070e+05  2.848070e+05   \n",
       "mean    94813.859575  3.919560e-15  5.688174e-16 -8.769071e-15  2.782312e-15   \n",
       "std     47488.145955  1.958696e+00  1.651309e+00  1.516255e+00  1.415869e+00   \n",
       "min         0.000000 -5.640751e+01 -7.271573e+01 -4.832559e+01 -5.683171e+00   \n",
       "25%     54201.500000 -9.203734e-01 -5.985499e-01 -8.903648e-01 -8.486401e-01   \n",
       "50%     84692.000000  1.810880e-02  6.548556e-02  1.798463e-01 -1.984653e-02   \n",
       "75%    139320.500000  1.315642e+00  8.037239e-01  1.027196e+00  7.433413e-01   \n",
       "max    172792.000000  2.454930e+00  2.205773e+01  9.382558e+00  1.687534e+01   \n",
       "\n",
       "                 V5            V6            V7            V8            V9  \\\n",
       "count  2.848070e+05  2.848070e+05  2.848070e+05  2.848070e+05  2.848070e+05   \n",
       "mean  -1.552563e-15  2.010663e-15 -1.694249e-15 -1.927028e-16 -3.137024e-15   \n",
       "std    1.380247e+00  1.332271e+00  1.237094e+00  1.194353e+00  1.098632e+00   \n",
       "min   -1.137433e+02 -2.616051e+01 -4.355724e+01 -7.321672e+01 -1.343407e+01   \n",
       "25%   -6.915971e-01 -7.682956e-01 -5.540759e-01 -2.086297e-01 -6.430976e-01   \n",
       "50%   -5.433583e-02 -2.741871e-01  4.010308e-02  2.235804e-02 -5.142873e-02   \n",
       "75%    6.119264e-01  3.985649e-01  5.704361e-01  3.273459e-01  5.971390e-01   \n",
       "max    3.480167e+01  7.330163e+01  1.205895e+02  2.000721e+01  1.559499e+01   \n",
       "\n",
       "       ...           V21           V22           V23           V24  \\\n",
       "count  ...  2.848070e+05  2.848070e+05  2.848070e+05  2.848070e+05   \n",
       "mean   ...  1.537294e-16  7.959909e-16  5.367590e-16  4.458112e-15   \n",
       "std    ...  7.345240e-01  7.257016e-01  6.244603e-01  6.056471e-01   \n",
       "min    ... -3.483038e+01 -1.093314e+01 -4.480774e+01 -2.836627e+00   \n",
       "25%    ... -2.283949e-01 -5.423504e-01 -1.618463e-01 -3.545861e-01   \n",
       "50%    ... -2.945017e-02  6.781943e-03 -1.119293e-02  4.097606e-02   \n",
       "75%    ...  1.863772e-01  5.285536e-01  1.476421e-01  4.395266e-01   \n",
       "max    ...  2.720284e+01  1.050309e+01  2.252841e+01  4.584549e+00   \n",
       "\n",
       "                V25           V26           V27           V28         Amount  \\\n",
       "count  2.848070e+05  2.848070e+05  2.848070e+05  2.848070e+05  284807.000000   \n",
       "mean   1.453003e-15  1.699104e-15 -3.660161e-16 -1.206049e-16      88.349619   \n",
       "std    5.212781e-01  4.822270e-01  4.036325e-01  3.300833e-01     250.120109   \n",
       "min   -1.029540e+01 -2.604551e+00 -2.256568e+01 -1.543008e+01       0.000000   \n",
       "25%   -3.171451e-01 -3.269839e-01 -7.083953e-02 -5.295979e-02       5.600000   \n",
       "50%    1.659350e-02 -5.213911e-02  1.342146e-03  1.124383e-02      22.000000   \n",
       "75%    3.507156e-01  2.409522e-01  9.104512e-02  7.827995e-02      77.165000   \n",
       "max    7.519589e+00  3.517346e+00  3.161220e+01  3.384781e+01   25691.160000   \n",
       "\n",
       "               Class  \n",
       "count  284807.000000  \n",
       "mean        0.001727  \n",
       "std         0.041527  \n",
       "min         0.000000  \n",
       "25%         0.000000  \n",
       "50%         0.000000  \n",
       "75%         0.000000  \n",
       "max         1.000000  \n",
       "\n",
       "[8 rows x 31 columns]"
      ]
     },
     "execution_count": 6,
     "metadata": {},
     "output_type": "execute_result"
    }
   ],
   "source": [
    "df.describe()"
   ]
  },
  {
   "cell_type": "code",
   "execution_count": 7,
   "metadata": {
    "execution": {
     "iopub.execute_input": "2020-10-17T11:19:43.026810Z",
     "iopub.status.busy": "2020-10-17T11:19:43.026015Z",
     "iopub.status.idle": "2020-10-17T11:19:43.054475Z",
     "shell.execute_reply": "2020-10-17T11:19:43.053638Z"
    },
    "papermill": {
     "duration": 0.07233,
     "end_time": "2020-10-17T11:19:43.054607",
     "exception": false,
     "start_time": "2020-10-17T11:19:42.982277",
     "status": "completed"
    },
    "tags": []
   },
   "outputs": [
    {
     "data": {
      "text/plain": [
       "Time      0\n",
       "V1        0\n",
       "V2        0\n",
       "V3        0\n",
       "V4        0\n",
       "V5        0\n",
       "V6        0\n",
       "V7        0\n",
       "V8        0\n",
       "V9        0\n",
       "V10       0\n",
       "V11       0\n",
       "V12       0\n",
       "V13       0\n",
       "V14       0\n",
       "V15       0\n",
       "V16       0\n",
       "V17       0\n",
       "V18       0\n",
       "V19       0\n",
       "V20       0\n",
       "V21       0\n",
       "V22       0\n",
       "V23       0\n",
       "V24       0\n",
       "V25       0\n",
       "V26       0\n",
       "V27       0\n",
       "V28       0\n",
       "Amount    0\n",
       "Class     0\n",
       "dtype: int64"
      ]
     },
     "execution_count": 7,
     "metadata": {},
     "output_type": "execute_result"
    }
   ],
   "source": [
    "df.isnull().sum()\n",
    "\n",
    "# No null values present in data frame."
   ]
  },
  {
   "cell_type": "code",
   "execution_count": 8,
   "metadata": {
    "execution": {
     "iopub.execute_input": "2020-10-17T11:19:43.139855Z",
     "iopub.status.busy": "2020-10-17T11:19:43.139067Z",
     "iopub.status.idle": "2020-10-17T11:19:43.152751Z",
     "shell.execute_reply": "2020-10-17T11:19:43.151570Z"
    },
    "papermill": {
     "duration": 0.059327,
     "end_time": "2020-10-17T11:19:43.152942",
     "exception": false,
     "start_time": "2020-10-17T11:19:43.093615",
     "status": "completed"
    },
    "tags": []
   },
   "outputs": [
    {
     "name": "stdout",
     "output_type": "stream",
     "text": [
      "No. of frauds in persentage:  99.83\n",
      "No. of no frauds in persentage:  0.17\n"
     ]
    }
   ],
   "source": [
    "# The classes are heavily skewed we need to solve this issue later.\n",
    "print('No. of frauds in persentage: ', round(df['Class'].value_counts()[0]/len(df) * 100,2))\n",
    "print('No. of no frauds in persentage: ', round(df['Class'].value_counts()[1]/len(df) * 100,2))"
   ]
  },
  {
   "cell_type": "markdown",
   "metadata": {
    "papermill": {
     "duration": 0.038747,
     "end_time": "2020-10-17T11:19:43.231888",
     "exception": false,
     "start_time": "2020-10-17T11:19:43.193141",
     "status": "completed"
    },
    "tags": []
   },
   "source": [
    "**Note:** \n",
    "\n",
    "Notice how imbalanced is our original dataset! Most of the transactions are non-fraud. If we use this dataframe as the base for our models and analysis we might get miss intiution."
   ]
  },
  {
   "cell_type": "markdown",
   "metadata": {
    "papermill": {
     "duration": 0.038439,
     "end_time": "2020-10-17T11:19:43.308922",
     "exception": false,
     "start_time": "2020-10-17T11:19:43.270483",
     "status": "completed"
    },
    "tags": []
   },
   "source": [
    "## [02] EDA:\n",
    "\n",
    "Here let's find some insights about our data."
   ]
  },
  {
   "cell_type": "code",
   "execution_count": 9,
   "metadata": {
    "execution": {
     "iopub.execute_input": "2020-10-17T11:19:43.393500Z",
     "iopub.status.busy": "2020-10-17T11:19:43.392730Z",
     "iopub.status.idle": "2020-10-17T11:19:43.563673Z",
     "shell.execute_reply": "2020-10-17T11:19:43.562835Z"
    },
    "papermill": {
     "duration": 0.216032,
     "end_time": "2020-10-17T11:19:43.563802",
     "exception": false,
     "start_time": "2020-10-17T11:19:43.347770",
     "status": "completed"
    },
    "tags": []
   },
   "outputs": [
    {
     "data": {
      "image/png": "[encoded data removed]",
      "text/plain": [
       "<Figure size 432x288 with 1 Axes>"
      ]
     },
     "metadata": {
      "needs_background": "light"
     },
     "output_type": "display_data"
    }
   ],
   "source": [
    "ax = sns.countplot(x='Class', data=df, facecolor=(0, 0, 0, 0), linewidth=5, edgecolor=sns.color_palette(\"dark\", 3))"
   ]
  },
  {
   "cell_type": "code",
   "execution_count": 10,
   "metadata": {
    "execution": {
     "iopub.execute_input": "2020-10-17T11:19:43.653149Z",
     "iopub.status.busy": "2020-10-17T11:19:43.652404Z",
     "iopub.status.idle": "2020-10-17T11:19:45.161886Z",
     "shell.execute_reply": "2020-10-17T11:19:45.161145Z"
    },
    "papermill": {
     "duration": 1.558264,
     "end_time": "2020-10-17T11:19:45.162009",
     "exception": false,
     "start_time": "2020-10-17T11:19:43.603745",
     "status": "completed"
    },
    "tags": []
   },
   "outputs": [
    {
     "data": {
      "image/png": "[encoded data removed]",
      "text/plain": [
       "<Figure size 1080x720 with 2 Axes>"
      ]
     },
     "metadata": {},
     "output_type": "display_data"
    }
   ],
   "source": [
    "corr = df.corr()\n",
    "\n",
    "# Generate a mask for the upper triangle\n",
    "mask = np.zeros_like(corr)\n",
    "mask[np.triu_indices_from(mask)] = True\n",
    "\n",
    "# Generate a custom diverging colormap\n",
    "cmap = sns.diverging_palette(220, 10, as_cmap=True)\n",
    "\n",
    "with sns.axes_style(\"white\"):\n",
    "    # Set up the matplotlib figure\n",
    "    f, ax = plt.subplots(figsize=(15,10))\n",
    "    ax = sns.heatmap(corr, cmap=cmap, mask=mask, vmax=.3, square=True, linewidths=.5, cbar_kws={\"shrink\": .5})"
   ]
  },
  {
   "cell_type": "code",
   "execution_count": 11,
   "metadata": {
    "execution": {
     "iopub.execute_input": "2020-10-17T11:19:45.343877Z",
     "iopub.status.busy": "2020-10-17T11:19:45.338150Z",
     "iopub.status.idle": "2020-10-17T11:19:46.026229Z",
     "shell.execute_reply": "2020-10-17T11:19:46.025636Z"
    },
    "papermill": {
     "duration": 0.740703,
     "end_time": "2020-10-17T11:19:46.026374",
     "exception": false,
     "start_time": "2020-10-17T11:19:45.285671",
     "status": "completed"
    },
    "tags": []
   },
   "outputs": [
    {
     "data": {
      "image/png": "[encoded data removed]",
      "text/plain": [
       "<Figure size 1440x288 with 4 Axes>"
      ]
     },
     "metadata": {
      "needs_background": "light"
     },
     "output_type": "display_data"
    }
   ],
   "source": [
    "# Positive correlations (The higher the feature the probability increases that it will be a fraud transaction)\n",
    "\n",
    "f, axes = plt.subplots(ncols=4, figsize=(20,4))\n",
    "\n",
    "sns.boxplot(x='Class', y='V2', data=df, ax=axes[0])\n",
    "axes[0].set_title('V2 vs Class')\n",
    "\n",
    "sns.boxplot(x='Class', y='V4', data=df, ax=axes[1])\n",
    "axes[1].set_title('V4 vs Class')\n",
    "\n",
    "sns.boxplot(x='Class', y='V11', data=df, ax=axes[2])\n",
    "axes[2].set_title('V11 vs Class')\n",
    "\n",
    "sns.boxplot(x='Class', y='V19', data=df, ax=axes[3])\n",
    "axes[3].set_title('V19 vs Class')\n",
    "\n",
    "plt.show()"
   ]
  },
  {
   "cell_type": "code",
   "execution_count": 12,
   "metadata": {
    "execution": {
     "iopub.execute_input": "2020-10-17T11:19:46.128922Z",
     "iopub.status.busy": "2020-10-17T11:19:46.122449Z",
     "iopub.status.idle": "2020-10-17T11:19:46.823555Z",
     "shell.execute_reply": "2020-10-17T11:19:46.824101Z"
    },
    "papermill": {
     "duration": 0.755111,
     "end_time": "2020-10-17T11:19:46.824300",
     "exception": false,
     "start_time": "2020-10-17T11:19:46.069189",
     "status": "completed"
    },
    "tags": []
   },
   "outputs": [
    {
     "data": {
      "image/png": "[encoded data removed]",
      "text/plain": [
       "<Figure size 1440x288 with 4 Axes>"
      ]
     },
     "metadata": {
      "needs_background": "light"
     },
     "output_type": "display_data"
    }
   ],
   "source": [
    "# Negative Correlations with our Class (The lower our feature value the more likely it will be a fraud transaction)\n",
    "\n",
    "f, axes = plt.subplots(ncols=4, figsize=(20,4))\n",
    "\n",
    "sns.boxplot(x='Class', y='V10', data=df, ax=axes[0])\n",
    "axes[0].set_title('V10 vs Class')\n",
    "\n",
    "sns.boxplot(x='Class', y='V12', data=df, ax=axes[1])\n",
    "axes[1].set_title('V12 vs Class')\n",
    "\n",
    "sns.boxplot(x='Class', y='V14', data=df,  ax=axes[2])\n",
    "axes[2].set_title('V14 vs Class')\n",
    "\n",
    "sns.boxplot(x='Class', y='V17', data=df, ax=axes[3])\n",
    "axes[3].set_title('V17 vs Class')\n",
    "\n",
    "plt.show()"
   ]
  },
  {
   "cell_type": "markdown",
   "metadata": {
    "papermill": {
     "duration": 0.0436,
     "end_time": "2020-10-17T11:19:46.912033",
     "exception": false,
     "start_time": "2020-10-17T11:19:46.868433",
     "status": "completed"
    },
    "tags": []
   },
   "source": [
    "Here we can see we have some extream outliers in V10, V11, V12, V14. We will remove those when we preprocess our data."
   ]
  },
  {
   "cell_type": "markdown",
   "metadata": {
    "papermill": {
     "duration": 0.044262,
     "end_time": "2020-10-17T11:19:47.000474",
     "exception": false,
     "start_time": "2020-10-17T11:19:46.956212",
     "status": "completed"
    },
    "tags": []
   },
   "source": [
    "## [03] Data Preprocessing:"
   ]
  },
  {
   "cell_type": "code",
   "execution_count": 17,
   "metadata": {
    "execution": {
     "iopub.execute_input": "2020-10-17T11:19:48.038792Z",
     "iopub.status.busy": "2020-10-17T11:19:48.037910Z",
     "iopub.status.idle": "2020-10-17T11:19:48.041339Z",
     "shell.execute_reply": "2020-10-17T11:19:48.040586Z"
    },
    "papermill": {
     "duration": 0.120589,
     "end_time": "2020-10-17T11:19:48.041509",
     "exception": false,
     "start_time": "2020-10-17T11:19:47.920920",
     "status": "completed"
    },
    "tags": []
   },
   "outputs": [],
   "source": [
    "# New_df is from the random undersample data (fewer instances)\n",
    "\n",
    "X = df_final.drop('Class', axis=1)\n",
    "Y = df_final['Class']"
   ]
  },
  {
   "cell_type": "markdown",
   "metadata": {
    "papermill": {
     "duration": 0.046159,
     "end_time": "2020-10-17T11:19:48.428378",
     "exception": false,
     "start_time": "2020-10-17T11:19:48.382219",
     "status": "completed"
    },
    "tags": []
   },
   "source": [
    "###  StandardScaler:"
   ]
  },
  {
   "cell_type": "code",
   "execution_count": 20,
   "metadata": {
    "execution": {
     "iopub.execute_input": "2020-10-17T11:19:48.537860Z",
     "iopub.status.busy": "2020-10-17T11:19:48.536991Z",
     "iopub.status.idle": "2020-10-17T11:19:49.275929Z",
     "shell.execute_reply": "2020-10-17T11:19:49.275170Z"
    },
    "papermill": {
     "duration": 0.8011,
     "end_time": "2020-10-17T11:19:49.276050",
     "exception": false,
     "start_time": "2020-10-17T11:19:48.474950",
     "status": "completed"
    },
    "tags": []
   },
   "outputs": [
    {
     "data": {
      "image/png": "[encoded data removed]",
      "text/plain": [
       "<Figure size 720x288 with 2 Axes>"
      ]
     },
     "metadata": {
      "needs_background": "light"
     },
     "output_type": "display_data"
    }
   ],
   "source": [
    "# Before StandardScaler:\n",
    "\n",
    "f, axes = plt.subplots(ncols=2, figsize=(10,4))\n",
    "\n",
    "sns.distplot(df_final['Amount'], kde=False, color=\"g\", ax=axes[0])\n",
    "\n",
    "sns.distplot(df_final['Time'], kde=False, color=\"g\", ax=axes[1])\n",
    "\n",
    "plt.tight_layout()"
   ]
  },
  {
   "cell_type": "code",
   "execution_count": 21,
   "metadata": {
    "execution": {
     "iopub.execute_input": "2020-10-17T11:19:49.381469Z",
     "iopub.status.busy": "2020-10-17T11:19:49.380675Z",
     "iopub.status.idle": "2020-10-17T11:19:49.621402Z",
     "shell.execute_reply": "2020-10-17T11:19:49.620608Z"
    },
    "papermill": {
     "duration": 0.297635,
     "end_time": "2020-10-17T11:19:49.621527",
     "exception": false,
     "start_time": "2020-10-17T11:19:49.323892",
     "status": "completed"
    },
    "tags": []
   },
   "outputs": [],
   "source": [
    "# Create the Scaler object\n",
    "scaler = StandardScaler()\n",
    "\n",
    "# Fit and Transform Amount\n",
    "scaler.fit(df_final['Amount'].values.reshape(-1, 1))\n",
    "df_final['std_Amount'] = scaler.transform(df_final['Amount'].values.reshape(-1, 1))\n",
    "\n",
    "# Fit and Transform Time\n",
    "scaler.fit(df_final['Time'].values.reshape(-1, 1))\n",
    "df_final['std_Time'] = scaler.transform(df_final['Time'].values.reshape(-1, 1))\n",
    "\n",
    "# Delete old features\n",
    "df_final.drop(['Time','Amount'], axis=1, inplace=True)"
   ]
  },
  {
   "cell_type": "code",
   "execution_count": 22,
   "metadata": {
    "execution": {
     "iopub.execute_input": "2020-10-17T11:19:49.734110Z",
     "iopub.status.busy": "2020-10-17T11:19:49.733226Z",
     "iopub.status.idle": "2020-10-17T11:19:50.479629Z",
     "shell.execute_reply": "2020-10-17T11:19:50.478896Z"
    },
    "papermill": {
     "duration": 0.810252,
     "end_time": "2020-10-17T11:19:50.479765",
     "exception": false,
     "start_time": "2020-10-17T11:19:49.669513",
     "status": "completed"
    },
    "tags": []
   },
   "outputs": [
    {
     "data": {
      "image/png": "[encoded data removed]",
      "text/plain": [
       "<Figure size 720x288 with 2 Axes>"
      ]
     },
     "metadata": {
      "needs_background": "light"
     },
     "output_type": "display_data"
    }
   ],
   "source": [
    "# After StandardScaler:\n",
    "\n",
    "f, axes = plt.subplots(ncols=2, figsize=(10,4))\n",
    "\n",
    "sns.distplot(df_final['std_Amount'], kde=False, color=\"g\", ax=axes[0])\n",
    "\n",
    "sns.distplot(df_final['std_Time'], kde=False, color=\"g\", ax=axes[1])\n",
    "\n",
    "plt.tight_layout()"
   ]
  },
  {
   "cell_type": "markdown",
   "metadata": {
    "papermill": {
     "duration": 0.052342,
     "end_time": "2020-10-17T11:19:50.583078",
     "exception": false,
     "start_time": "2020-10-17T11:19:50.530736",
     "status": "completed"
    },
    "tags": []
   },
   "source": [
    "##  Classifiers:"
   ]
  },
  {
   "cell_type": "markdown",
   "metadata": {
    "papermill": {
     "duration": 0.048822,
     "end_time": "2020-10-17T11:19:50.681350",
     "exception": false,
     "start_time": "2020-10-17T11:19:50.632528",
     "status": "completed"
    },
    "tags": []
   },
   "source": [
    "### [4.1] Train Test Split:\n",
    "\n",
    "__Note:__ Accuracy score might not work as expected as we have some extream outliers and immabalced nature of data."
   ]
  },
  {
   "cell_type": "code",
   "execution_count": 23,
   "metadata": {
    "execution": {
     "iopub.execute_input": "2020-10-17T11:19:50.785966Z",
     "iopub.status.busy": "2020-10-17T11:19:50.785177Z",
     "iopub.status.idle": "2020-10-17T11:19:50.986024Z",
     "shell.execute_reply": "2020-10-17T11:19:50.985165Z"
    },
    "papermill": {
     "duration": 0.255448,
     "end_time": "2020-10-17T11:19:50.986157",
     "exception": false,
     "start_time": "2020-10-17T11:19:50.730709",
     "status": "completed"
    },
    "tags": []
   },
   "outputs": [],
   "source": [
    "X_train, X_test, y_train, y_test = train_test_split(X, Y, test_size=0.3, random_state=22)"
   ]
  },
  {
   "cell_type": "markdown",
   "metadata": {
    "papermill": {
     "duration": 0.048678,
     "end_time": "2020-10-17T11:19:51.084140",
     "exception": false,
     "start_time": "2020-10-17T11:19:51.035462",
     "status": "completed"
    },
    "tags": []
   },
   "source": [
    "### [4.2] Model Training:"
   ]
  },
  {
   "cell_type": "code",
   "execution_count": 24,
   "metadata": {
    "execution": {
     "iopub.execute_input": "2020-10-17T11:19:51.190276Z",
     "iopub.status.busy": "2020-10-17T11:19:51.189324Z",
     "iopub.status.idle": "2020-10-17T11:19:51.192775Z",
     "shell.execute_reply": "2020-10-17T11:19:51.192147Z"
    },
    "papermill": {
     "duration": 0.059122,
     "end_time": "2020-10-17T11:19:51.192909",
     "exception": false,
     "start_time": "2020-10-17T11:19:51.133787",
     "status": "completed"
    },
    "tags": []
   },
   "outputs": [],
   "source": [
    "# Define classifiers with default parameters.\n",
    "\n",
    "classifiers = {\n",
    "    \"Logisitic Regression\": LogisticRegression(),\n",
    "    \"KNN\": KNeighborsClassifier(),\n",
    "    \"Linear Regression\":linear_model.LinearRegression(),\n",
    "    \"Gaussian NB\": GaussianNB()\n",
    "}"
   ]
  },
  {
   "cell_type": "code",
   "execution_count": 25,
   "metadata": {
    "execution": {
     "iopub.execute_input": "2020-10-17T11:19:51.302126Z",
     "iopub.status.busy": "2020-10-17T11:19:51.301343Z",
     "iopub.status.idle": "2020-10-17T11:20:52.947310Z",
     "shell.execute_reply": "2020-10-17T11:20:52.946642Z"
    },
    "papermill": {
     "duration": 61.704953,
     "end_time": "2020-10-17T11:20:52.947439",
     "exception": false,
     "start_time": "2020-10-17T11:19:51.242486",
     "status": "completed"
    },
    "tags": []
   },
   "outputs": [
    {
     "name": "stdout",
     "output_type": "stream",
     "text": [
      "Classifiers:  Logisitic Regression has a training score of 94.0\n",
      "Classifiers:  KNN has a training score of 100.0\n",
      "Classifiers:  Linear Regression has a training score of 64.0\n",
      "Classifiers:  Gaussian NB has a training score of 87.0\n"
     ]
    }
   ],
   "source": [
    "for name, classifier in classifiers.items():\n",
    "    classifier.fit(X_train, y_train) \n",
    "    training_score = cross_val_score(classifier, X_train, y_train, cv=3)\n",
    "    print('Classifiers: ',name, 'has a training score of', round(training_score.mean(),2) * 100)"
   ]
  },
  {
   "cell_type": "markdown",
   "metadata": {
    "papermill": {
     "duration": 0.051101,
     "end_time": "2020-10-17T11:20:53.055806",
     "exception": false,
     "start_time": "2020-10-17T11:20:53.004705",
     "status": "completed"
    },
    "tags": []
   },
   "source": [
    "KNN's test accuracy is quite good in compare to other. Let's try to improve LR model using hyper parameter tuning.\n",
    "\n",
    "### Logistic Regression:"
   ]
  },
  {
   "cell_type": "code",
   "execution_count": 26,
   "metadata": {
    "execution": {
     "iopub.execute_input": "2020-10-17T11:20:53.167236Z",
     "iopub.status.busy": "2020-10-17T11:20:53.166460Z",
     "iopub.status.idle": "2020-10-17T11:21:30.010917Z",
     "shell.execute_reply": "2020-10-17T11:21:30.011802Z"
    },
    "papermill": {
     "duration": 36.90531,
     "end_time": "2020-10-17T11:21:30.012012",
     "exception": false,
     "start_time": "2020-10-17T11:20:53.106702",
     "status": "completed"
    },
    "tags": []
   },
   "outputs": [
    {
     "name": "stdout",
     "output_type": "stream",
     "text": [
      "Best Accuracy:  0.943189269339102\n",
      "Best Parametrs:  {'C': 0.1, 'penalty': 'l2'}\n"
     ]
    }
   ],
   "source": [
    "# LogisticRegression\n",
    "params = {\"penalty\": ['l1', 'l2'], 'C': [0.001, 0.01, 0.1, 1, 10, 100, 1000]}\n",
    "\n",
    "gs = GridSearchCV(LogisticRegression(), params, cv = 3, n_jobs=-1)\n",
    "gs_results = gs.fit(X_train, y_train)\n",
    "\n",
    "log_reg = gs.best_estimator_ # store best estimators for future analysis\n",
    "\n",
    "print('Best Accuracy: ', gs_results.best_score_)\n",
    "print('Best Parametrs: ', gs_results.best_params_)"
   ]
  },
  {
   "cell_type": "markdown",
   "metadata": {},
   "source": [
    "# KNN"
   ]
  },
  {
   "cell_type": "code",
   "execution_count": 27,
   "metadata": {
    "execution": {
     "iopub.execute_input": "2020-10-17T11:21:30.125813Z",
     "iopub.status.busy": "2020-10-17T11:21:30.124983Z",
     "iopub.status.idle": "2020-10-17T11:34:44.965524Z",
     "shell.execute_reply": "2020-10-17T11:34:44.966241Z"
    },
    "papermill": {
     "duration": 794.902096,
     "end_time": "2020-10-17T11:34:44.966470",
     "exception": false,
     "start_time": "2020-10-17T11:21:30.064374",
     "status": "completed"
    },
    "tags": []
   },
   "outputs": [
    {
     "name": "stdout",
     "output_type": "stream",
     "text": [
      "Best Accuracy:  0.9994573426559686\n",
      "Best Parametrs:  {'n_neighbors': 1, 'weights': 'uniform'}\n"
     ]
    }
   ],
   "source": [
    "\n",
    "params = {'n_neighbors':list(range(1, 50, 2)), 'weights':['uniform', 'distance']}\n",
    "\n",
    "gs = GridSearchCV(KNeighborsClassifier(), params, cv = 3, n_jobs=-1)\n",
    "gs_results = gs.fit(X_train, y_train)\n",
    "\n",
    "knears_neighbors = gs.best_estimator_ # store best estimators for future analysis\n",
    "\n",
    "print('Best Accuracy: ', gs_results.best_score_)\n",
    "print('Best Parametrs: ', gs_results.best_params_)"
   ]
  },
  {
   "cell_type": "code",
   "execution_count": 28,
   "metadata": {
    "execution": {
     "iopub.execute_input": "2020-10-17T11:34:45.079958Z",
     "iopub.status.busy": "2020-10-17T11:34:45.079092Z",
     "iopub.status.idle": "2020-10-17T11:35:36.428025Z",
     "shell.execute_reply": "2020-10-17T11:35:36.428760Z"
    },
    "papermill": {
     "duration": 51.410041,
     "end_time": "2020-10-17T11:35:36.428935",
     "exception": false,
     "start_time": "2020-10-17T11:34:45.018894",
     "status": "completed"
    },
    "tags": []
   },
   "outputs": [
    {
     "name": "stdout",
     "output_type": "stream",
     "text": [
      "LR CV Score:  94.1%\n",
      "KNN CV Score:  99.95%\n"
     ]
    }
   ],
   "source": [
    "log_reg_score = cross_val_score(log_reg, X_train, y_train, cv=3)\n",
    "print('LR CV Score: ', round(log_reg_score.mean() * 100, 2).astype(str) + '%')\n",
    "\n",
    "knears_score = cross_val_score(knears_neighbors, X_train, y_train, cv=3)\n",
    "print('KNN CV Score: ', round(knears_score.mean() * 100, 2).astype(str) + '%')"
   ]
  },
  {
   "cell_type": "markdown",
   "metadata": {
    "papermill": {
     "duration": 0.054313,
     "end_time": "2020-10-17T11:35:36.544531",
     "exception": false,
     "start_time": "2020-10-17T11:35:36.490218",
     "status": "completed"
    },
    "tags": []
   },
   "source": [
    "As we know KNN impact allot by outliers so let's go with the LR and check our test accuracy.\n",
    "\n",
    "### Accuracy on Test Data:"
   ]
  },
  {
   "cell_type": "code",
   "execution_count": 29,
   "metadata": {
    "execution": {
     "iopub.execute_input": "2020-10-17T11:35:36.667763Z",
     "iopub.status.busy": "2020-10-17T11:35:36.666968Z",
     "iopub.status.idle": "2020-10-17T11:35:39.937704Z",
     "shell.execute_reply": "2020-10-17T11:35:39.938361Z"
    },
    "papermill": {
     "duration": 3.33687,
     "end_time": "2020-10-17T11:35:39.938546",
     "exception": false,
     "start_time": "2020-10-17T11:35:36.601676",
     "status": "completed"
    },
    "tags": []
   },
   "outputs": [
    {
     "name": "stdout",
     "output_type": "stream",
     "text": [
      "Accuracy:  0.9376806241903054\n"
     ]
    }
   ],
   "source": [
    "model = LogisticRegression(penalty = 'l2', C = 0.1)\n",
    "model.fit(X_train,y_train)\n",
    "pridict = model.predict(X_test)\n",
    "print('Accuracy: ', accuracy_score(y_test, pridict))"
   ]
  },
  {
   "cell_type": "markdown",
   "metadata": {
    "papermill": {
     "duration": 0.054264,
     "end_time": "2020-10-17T11:35:40.050512",
     "exception": false,
     "start_time": "2020-10-17T11:35:39.996248",
     "status": "completed"
    },
    "tags": []
   },
   "source": [
    "###  Confusion Matrix:"
   ]
  },
  {
   "cell_type": "code",
   "execution_count": 30,
   "metadata": {
    "execution": {
     "iopub.execute_input": "2020-10-17T11:35:40.166021Z",
     "iopub.status.busy": "2020-10-17T11:35:40.165235Z",
     "iopub.status.idle": "2020-10-17T11:35:40.452174Z",
     "shell.execute_reply": "2020-10-17T11:35:40.451167Z"
    },
    "papermill": {
     "duration": 0.347101,
     "end_time": "2020-10-17T11:35:40.452353",
     "exception": false,
     "start_time": "2020-10-17T11:35:40.105252",
     "status": "completed"
    },
    "tags": []
   },
   "outputs": [
    {
     "name": "stdout",
     "output_type": "stream",
     "text": [
      "          No Fraud  Fraud\n",
      "No Fraud     82121   3151\n",
      "Fraud         7480  77837\n"
     ]
    }
   ],
   "source": [
    "cm = confusion_matrix(y_test, pridict)\n",
    "labels = ['No Fraud', 'Fraud']\n",
    "print(pd.DataFrame(cm, index=labels, columns=labels))"
   ]
  },
  {
   "cell_type": "markdown",
   "metadata": {
    "papermill": {
     "duration": 0.053994,
     "end_time": "2020-10-17T11:35:40.561843",
     "exception": false,
     "start_time": "2020-10-17T11:35:40.507849",
     "status": "completed"
    },
    "tags": []
   },
   "source": [
    "### ROC Curve:"
   ]
  },
  {
   "cell_type": "code",
   "execution_count": 31,
   "metadata": {
    "execution": {
     "iopub.execute_input": "2020-10-17T11:35:40.680417Z",
     "iopub.status.busy": "2020-10-17T11:35:40.679605Z",
     "iopub.status.idle": "2020-10-17T11:35:40.784136Z",
     "shell.execute_reply": "2020-10-17T11:35:40.785066Z"
    },
    "papermill": {
     "duration": 0.16804,
     "end_time": "2020-10-17T11:35:40.785226",
     "exception": false,
     "start_time": "2020-10-17T11:35:40.617186",
     "status": "completed"
    },
    "tags": []
   },
   "outputs": [
    {
     "name": "stdout",
     "output_type": "stream",
     "text": [
      "AUC score: 0.9773635808480894\n"
     ]
    }
   ],
   "source": [
    "lr_pred_prob = model.predict_proba(X_test)[:,1]\n",
    "fpr,tpr,thrsld = roc_curve(y_test,lr_pred_prob)\n",
    "print('AUC score:',roc_auc_score(y_test,lr_pred_prob))"
   ]
  },
  {
   "cell_type": "code",
   "execution_count": 32,
   "metadata": {
    "execution": {
     "iopub.execute_input": "2020-10-17T11:35:40.910313Z",
     "iopub.status.busy": "2020-10-17T11:35:40.902361Z",
     "iopub.status.idle": "2020-10-17T11:35:41.082790Z",
     "shell.execute_reply": "2020-10-17T11:35:41.082024Z"
    },
    "papermill": {
     "duration": 0.242853,
     "end_time": "2020-10-17T11:35:41.082910",
     "exception": false,
     "start_time": "2020-10-17T11:35:40.840057",
     "status": "completed"
    },
    "tags": []
   },
   "outputs": [
    {
     "data": {
      "image/png": "[encoded data removed]",
      "text/plain": [
       "<Figure size 504x360 with 1 Axes>"
      ]
     },
     "metadata": {
      "needs_background": "light"
     },
     "output_type": "display_data"
    }
   ],
   "source": [
    "# Ploting ROC Curve \n",
    "\n",
    "plt.figure(figsize=(7,5))\n",
    "plt.plot([0,1],[0,1])\n",
    "plt.plot(fpr,tpr,':', color='red')\n",
    "plt.xlabel('False Positive Rate')\n",
    "plt.ylabel('True Positive Rate')\n",
    "plt.title('ROC Curve')\n",
    "plt.grid()"
   ]
  }
 ],
 "metadata": {
  "kernelspec": {
   "display_name": "Python 3",
   "language": "python",
   "name": "python3"
  },
  "language_info": {
   "codemirror_mode": {
    "name": "ipython",
    "version": 3
   },
   "file_extension": ".py",
   "mimetype": "text/x-python",
   "name": "python",
   "nbconvert_exporter": "python",
   "pygments_lexer": "ipython3",
   "version": "3.7.6"
  },
  "papermill": {
   "duration": 969.203906,
   "end_time": "2020-10-17T11:35:42.188419",
   "environment_variables": {},
   "exception": null,
   "input_path": "__notebook__.ipynb",
   "output_path": "__notebook__.ipynb",
   "parameters": {},
   "start_time": "2020-10-17T11:19:32.984513",
   "version": "2.1.0"
  }
 },
 "nbformat": 4,
 "nbformat_minor": 4
}
